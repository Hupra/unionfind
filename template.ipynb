{
 "cells": [
  {
   "cell_type": "code",
   "execution_count": 1,
   "metadata": {},
   "outputs": [],
   "source": [
    "%load_ext autoreload"
   ]
  },
  {
   "cell_type": "markdown",
   "metadata": {},
   "source": [
    "### Simple Quickfind"
   ]
  },
  {
   "cell_type": "code",
   "execution_count": 2,
   "metadata": {},
   "outputs": [
    {
     "name": "stdout",
     "output_type": "stream",
     "text": [
      "[1, 1, 1, 8, 8, 1, 1, 1, 8, 8]\n",
      "count: 2\n",
      "time: 0 seconds\n"
     ]
    }
   ],
   "source": [
    "%autoreload\n",
    "from quickfind import *\n",
    "import time\n",
    "\n",
    "with open(\"tinyUF.txt\", \"r+\") as f:\n",
    "    \n",
    "    lines = f.readlines()\n",
    "    \n",
    "    n=int(lines[0])\n",
    "    \n",
    "    start = time.time()\n",
    "    \n",
    "    qf = QuickFind(n)\n",
    "    \n",
    "    for line in lines[1:]:\n",
    "        cur = line.split()\n",
    "        qf.union(int(cur[0]), int(cur[1]))\n",
    "        \n",
    "    end = time.time()\n",
    "\n",
    "print(qf.id)\n",
    "print(\"count:\", qf.count())\n",
    "print(\"time:\", int(end - start), \"seconds\")"
   ]
  },
  {
   "cell_type": "markdown",
   "metadata": {},
   "source": [
    "# Quick Union Timed"
   ]
  },
  {
   "cell_type": "code",
   "execution_count": 3,
   "metadata": {},
   "outputs": [
    {
     "name": "stdout",
     "output_type": "stream",
     "text": [
      "[1, 1, 1, 8, 3, 0, 5, 1, 8, 8]\n",
      "count: 2\n",
      "time: 0 seconds\n"
     ]
    }
   ],
   "source": [
    "%autoreload\n",
    "from quickunion import *\n",
    "import time\n",
    "\n",
    "with open(\"tinyUF.txt\", \"r+\") as f:\n",
    "    \n",
    "    lines = f.readlines()\n",
    "    \n",
    "    n=int(lines[0])\n",
    "    \n",
    "    start = time.time()\n",
    "    \n",
    "    qu = QuickUnion(n)\n",
    "    \n",
    "    for line in lines[1:]:\n",
    "        cur = line.split()\n",
    "        qu.union(int(cur[0]), int(cur[1]))\n",
    "        \n",
    "    end = time.time()\n",
    "\n",
    "print(qu.id)\n",
    "print(\"count:\", qu.count)\n",
    "print(\"time:\", int(end - start), \"seconds\")"
   ]
  },
  {
   "cell_type": "markdown",
   "metadata": {},
   "source": [
    "# Weighted Quick Union Timed"
   ]
  },
  {
   "cell_type": "code",
   "execution_count": 4,
   "metadata": {},
   "outputs": [
    {
     "name": "stdout",
     "output_type": "stream",
     "text": [
      "[6, 2, 6, 4, 4, 6, 6, 2, 4, 4]\n",
      "count: 2\n",
      "time: 0 seconds\n"
     ]
    }
   ],
   "source": [
    "%autoreload\n",
    "from weightedquickunion import *\n",
    "import time\n",
    "    \n",
    "with open(\"tinyUF.txt\", \"r\") as f:\n",
    "    \n",
    "    lines = f.readlines()\n",
    "    \n",
    "    n=int(lines[0])\n",
    "    \n",
    "    start = time.time()\n",
    "    \n",
    "    wqu = WeightedQuickUnion(n)\n",
    "    \n",
    "    for line in lines[1:]:\n",
    "        cur = line.split()\n",
    "        wqu.union(int(cur[0]), int(cur[1]))\n",
    "        \n",
    "    end = time.time()\n",
    "        \n",
    "print(wqu.id)\n",
    "print(\"count:\", wqu.count)\n",
    "print(\"time:\", int(end - start), \"seconds\")"
   ]
  }
 ],
 "metadata": {
  "kernelspec": {
   "display_name": "Python 3",
   "language": "python",
   "name": "python3"
  },
  "language_info": {
   "codemirror_mode": {
    "name": "ipython",
    "version": 3
   },
   "file_extension": ".py",
   "mimetype": "text/x-python",
   "name": "python",
   "nbconvert_exporter": "python",
   "pygments_lexer": "ipython3",
   "version": "3.7.1"
  }
 },
 "nbformat": 4,
 "nbformat_minor": 2
}
